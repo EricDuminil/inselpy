{
 "cells": [
  {
   "cell_type": "markdown",
   "metadata": {},
   "source": [
    "# Libraries"
   ]
  },
  {
   "cell_type": "code",
   "execution_count": 1,
   "metadata": {},
   "outputs": [],
   "source": [
    "#TODO: Write down all required libs"
   ]
  },
  {
   "cell_type": "code",
   "execution_count": 2,
   "metadata": {},
   "outputs": [],
   "source": [
    "import pandas as pd\n",
    "import numpy as np\n",
    "import pvlib"
   ]
  },
  {
   "cell_type": "code",
   "execution_count": 3,
   "metadata": {},
   "outputs": [],
   "source": [
    "from pvlib.pvsystem import PVSystem\n",
    "from pvlib.location import Location\n",
    "from pvlib.modelchain import ModelChain"
   ]
  },
  {
   "cell_type": "markdown",
   "metadata": {},
   "source": [
    "# Setup"
   ]
  },
  {
   "cell_type": "code",
   "execution_count": 4,
   "metadata": {},
   "outputs": [],
   "source": [
    "sandia_modules = pvlib.pvsystem.retrieve_sam('SandiaMod')\n",
    "cec_inverters = pvlib.pvsystem.retrieve_sam('cecinverter')"
   ]
  },
  {
   "cell_type": "raw",
   "metadata": {},
   "source": [
    "[name for name in pvlib.pvsystem.retrieve_sam('CECInverter') if name.startswith('SMA_America__SB3000TL')]"
   ]
  },
  {
   "cell_type": "raw",
   "metadata": {},
   "source": [
    "[m for m in sandia_modules if m.lower().startswith('sunpower')]"
   ]
  },
  {
   "cell_type": "code",
   "execution_count": 5,
   "metadata": {},
   "outputs": [],
   "source": [
    "spr_315 = sandia_modules['SunPower_SPR_315E_WHT__2007__E__']\n",
    "sma_3000 = cec_inverters['SMA_America__SB3000TL_US_22__240V_']"
   ]
  },
  {
   "cell_type": "code",
   "execution_count": 6,
   "metadata": {},
   "outputs": [],
   "source": [
    "#TODO: Add parameters\n",
    "stuttgart = Location(latitude=48.77, longitude=9.18)"
   ]
  },
  {
   "cell_type": "code",
   "execution_count": 7,
   "metadata": {},
   "outputs": [],
   "source": [
    "#NOTE: Too bad, this boilerplate code seems to be required\n",
    "from pvlib.temperature import TEMPERATURE_MODEL_PARAMETERS\n",
    "temperature_model_parameters = TEMPERATURE_MODEL_PARAMETERS['sapm']['open_rack_glass_glass']"
   ]
  },
  {
   "cell_type": "code",
   "execution_count": 8,
   "metadata": {},
   "outputs": [],
   "source": [
    "system = PVSystem(surface_tilt=30,\n",
    "                  surface_azimuth=180,\n",
    "                  module_parameters=spr_315,\n",
    "                  inverter_parameters=sma_3000,\n",
    "                  modules_per_string=10,\n",
    "                  strings_per_inverter=1,\n",
    "                  temperature_model_parameters=temperature_model_parameters\n",
    "                 )"
   ]
  },
  {
   "cell_type": "markdown",
   "metadata": {},
   "source": [
    "# Simulation"
   ]
  },
  {
   "cell_type": "code",
   "execution_count": 9,
   "metadata": {},
   "outputs": [],
   "source": [
    "mc = ModelChain(system, stuttgart)"
   ]
  },
  {
   "cell_type": "raw",
   "metadata": {},
   "source": [
    "# Not needed anymore\n",
    "one_year = pd.date_range(start='2018', periods=8760, freq='1h')\n",
    "localized_one_year = one_year.tz_localize('Etc/GMT-1')"
   ]
  },
  {
   "cell_type": "markdown",
   "metadata": {},
   "source": [
    "## Try to get weather from PVGIS"
   ]
  },
  {
   "cell_type": "code",
   "execution_count": 10,
   "metadata": {},
   "outputs": [],
   "source": [
    "# Avoid downloading same data over and over again\n",
    "import requests_cache\n",
    "requests_cache.install_cache('pvgis_requests_cache', backend='sqlite')"
   ]
  },
  {
   "cell_type": "code",
   "execution_count": 11,
   "metadata": {},
   "outputs": [],
   "source": [
    "weather, _, _, _ = pvlib.iotools.pvgis.get_pvgis_tmy(stuttgart.latitude, stuttgart.longitude)"
   ]
  },
  {
   "cell_type": "code",
   "execution_count": 12,
   "metadata": {},
   "outputs": [
    {
     "data": {
      "text/html": [
       "<div>\n",
       "<style scoped>\n",
       "    .dataframe tbody tr th:only-of-type {\n",
       "        vertical-align: middle;\n",
       "    }\n",
       "\n",
       "    .dataframe tbody tr th {\n",
       "        vertical-align: top;\n",
       "    }\n",
       "\n",
       "    .dataframe thead th {\n",
       "        text-align: right;\n",
       "    }\n",
       "</style>\n",
       "<table border=\"1\" class=\"dataframe\">\n",
       "  <thead>\n",
       "    <tr style=\"text-align: right;\">\n",
       "      <th></th>\n",
       "      <th>T2m</th>\n",
       "      <th>RH</th>\n",
       "      <th>G(h)</th>\n",
       "      <th>Gb(n)</th>\n",
       "      <th>Gd(h)</th>\n",
       "      <th>IR(h)</th>\n",
       "      <th>WS10m</th>\n",
       "      <th>WD10m</th>\n",
       "      <th>SP</th>\n",
       "    </tr>\n",
       "    <tr>\n",
       "      <th>time(UTC)</th>\n",
       "      <th></th>\n",
       "      <th></th>\n",
       "      <th></th>\n",
       "      <th></th>\n",
       "      <th></th>\n",
       "      <th></th>\n",
       "      <th></th>\n",
       "      <th></th>\n",
       "      <th></th>\n",
       "    </tr>\n",
       "  </thead>\n",
       "  <tbody>\n",
       "    <tr>\n",
       "      <th>2016-01-01 00:00:00+00:00</th>\n",
       "      <td>2.70</td>\n",
       "      <td>96.70</td>\n",
       "      <td>0.0</td>\n",
       "      <td>0.0</td>\n",
       "      <td>0.0</td>\n",
       "      <td>292.75</td>\n",
       "      <td>1.06</td>\n",
       "      <td>219.0</td>\n",
       "      <td>99358.0</td>\n",
       "    </tr>\n",
       "    <tr>\n",
       "      <th>2016-01-01 01:00:00+00:00</th>\n",
       "      <td>3.26</td>\n",
       "      <td>97.01</td>\n",
       "      <td>0.0</td>\n",
       "      <td>0.0</td>\n",
       "      <td>0.0</td>\n",
       "      <td>299.49</td>\n",
       "      <td>1.05</td>\n",
       "      <td>228.0</td>\n",
       "      <td>99374.0</td>\n",
       "    </tr>\n",
       "    <tr>\n",
       "      <th>2016-01-01 02:00:00+00:00</th>\n",
       "      <td>3.83</td>\n",
       "      <td>97.32</td>\n",
       "      <td>0.0</td>\n",
       "      <td>0.0</td>\n",
       "      <td>0.0</td>\n",
       "      <td>306.23</td>\n",
       "      <td>1.03</td>\n",
       "      <td>238.0</td>\n",
       "      <td>99390.0</td>\n",
       "    </tr>\n",
       "    <tr>\n",
       "      <th>2016-01-01 03:00:00+00:00</th>\n",
       "      <td>4.39</td>\n",
       "      <td>97.62</td>\n",
       "      <td>0.0</td>\n",
       "      <td>0.0</td>\n",
       "      <td>0.0</td>\n",
       "      <td>312.97</td>\n",
       "      <td>1.01</td>\n",
       "      <td>222.0</td>\n",
       "      <td>99383.0</td>\n",
       "    </tr>\n",
       "    <tr>\n",
       "      <th>2016-01-01 04:00:00+00:00</th>\n",
       "      <td>4.96</td>\n",
       "      <td>97.93</td>\n",
       "      <td>0.0</td>\n",
       "      <td>0.0</td>\n",
       "      <td>0.0</td>\n",
       "      <td>319.71</td>\n",
       "      <td>0.99</td>\n",
       "      <td>207.0</td>\n",
       "      <td>99377.0</td>\n",
       "    </tr>\n",
       "    <tr>\n",
       "      <th>...</th>\n",
       "      <td>...</td>\n",
       "      <td>...</td>\n",
       "      <td>...</td>\n",
       "      <td>...</td>\n",
       "      <td>...</td>\n",
       "      <td>...</td>\n",
       "      <td>...</td>\n",
       "      <td>...</td>\n",
       "      <td>...</td>\n",
       "    </tr>\n",
       "    <tr>\n",
       "      <th>2007-12-31 19:00:00+00:00</th>\n",
       "      <td>-0.12</td>\n",
       "      <td>95.16</td>\n",
       "      <td>0.0</td>\n",
       "      <td>0.0</td>\n",
       "      <td>0.0</td>\n",
       "      <td>259.05</td>\n",
       "      <td>1.16</td>\n",
       "      <td>248.0</td>\n",
       "      <td>99586.0</td>\n",
       "    </tr>\n",
       "    <tr>\n",
       "      <th>2007-12-31 20:00:00+00:00</th>\n",
       "      <td>0.45</td>\n",
       "      <td>95.47</td>\n",
       "      <td>0.0</td>\n",
       "      <td>0.0</td>\n",
       "      <td>0.0</td>\n",
       "      <td>265.79</td>\n",
       "      <td>1.14</td>\n",
       "      <td>246.0</td>\n",
       "      <td>99574.0</td>\n",
       "    </tr>\n",
       "    <tr>\n",
       "      <th>2007-12-31 21:00:00+00:00</th>\n",
       "      <td>1.01</td>\n",
       "      <td>95.78</td>\n",
       "      <td>0.0</td>\n",
       "      <td>0.0</td>\n",
       "      <td>0.0</td>\n",
       "      <td>272.53</td>\n",
       "      <td>1.12</td>\n",
       "      <td>248.0</td>\n",
       "      <td>99561.0</td>\n",
       "    </tr>\n",
       "    <tr>\n",
       "      <th>2007-12-31 22:00:00+00:00</th>\n",
       "      <td>1.57</td>\n",
       "      <td>96.09</td>\n",
       "      <td>0.0</td>\n",
       "      <td>0.0</td>\n",
       "      <td>0.0</td>\n",
       "      <td>279.27</td>\n",
       "      <td>1.10</td>\n",
       "      <td>249.0</td>\n",
       "      <td>99548.0</td>\n",
       "    </tr>\n",
       "    <tr>\n",
       "      <th>2007-12-31 23:00:00+00:00</th>\n",
       "      <td>2.14</td>\n",
       "      <td>96.39</td>\n",
       "      <td>0.0</td>\n",
       "      <td>0.0</td>\n",
       "      <td>0.0</td>\n",
       "      <td>286.01</td>\n",
       "      <td>1.08</td>\n",
       "      <td>251.0</td>\n",
       "      <td>99535.0</td>\n",
       "    </tr>\n",
       "  </tbody>\n",
       "</table>\n",
       "<p>8760 rows × 9 columns</p>\n",
       "</div>"
      ],
      "text/plain": [
       "                            T2m     RH  G(h)  Gb(n)  Gd(h)   IR(h)  WS10m  \\\n",
       "time(UTC)                                                                   \n",
       "2016-01-01 00:00:00+00:00  2.70  96.70   0.0    0.0    0.0  292.75   1.06   \n",
       "2016-01-01 01:00:00+00:00  3.26  97.01   0.0    0.0    0.0  299.49   1.05   \n",
       "2016-01-01 02:00:00+00:00  3.83  97.32   0.0    0.0    0.0  306.23   1.03   \n",
       "2016-01-01 03:00:00+00:00  4.39  97.62   0.0    0.0    0.0  312.97   1.01   \n",
       "2016-01-01 04:00:00+00:00  4.96  97.93   0.0    0.0    0.0  319.71   0.99   \n",
       "...                         ...    ...   ...    ...    ...     ...    ...   \n",
       "2007-12-31 19:00:00+00:00 -0.12  95.16   0.0    0.0    0.0  259.05   1.16   \n",
       "2007-12-31 20:00:00+00:00  0.45  95.47   0.0    0.0    0.0  265.79   1.14   \n",
       "2007-12-31 21:00:00+00:00  1.01  95.78   0.0    0.0    0.0  272.53   1.12   \n",
       "2007-12-31 22:00:00+00:00  1.57  96.09   0.0    0.0    0.0  279.27   1.10   \n",
       "2007-12-31 23:00:00+00:00  2.14  96.39   0.0    0.0    0.0  286.01   1.08   \n",
       "\n",
       "                           WD10m       SP  \n",
       "time(UTC)                                  \n",
       "2016-01-01 00:00:00+00:00  219.0  99358.0  \n",
       "2016-01-01 01:00:00+00:00  228.0  99374.0  \n",
       "2016-01-01 02:00:00+00:00  238.0  99390.0  \n",
       "2016-01-01 03:00:00+00:00  222.0  99383.0  \n",
       "2016-01-01 04:00:00+00:00  207.0  99377.0  \n",
       "...                          ...      ...  \n",
       "2007-12-31 19:00:00+00:00  248.0  99586.0  \n",
       "2007-12-31 20:00:00+00:00  246.0  99574.0  \n",
       "2007-12-31 21:00:00+00:00  248.0  99561.0  \n",
       "2007-12-31 22:00:00+00:00  249.0  99548.0  \n",
       "2007-12-31 23:00:00+00:00  251.0  99535.0  \n",
       "\n",
       "[8760 rows x 9 columns]"
      ]
     },
     "execution_count": 12,
     "metadata": {},
     "output_type": "execute_result"
    }
   ],
   "source": [
    "weather"
   ]
  },
  {
   "cell_type": "code",
   "execution_count": 13,
   "metadata": {},
   "outputs": [],
   "source": [
    "# Should wind be used?\n",
    "weather = weather.rename(columns={'G(h)': 'ghi',\n",
    "                                  'Gb(n)': 'dni',\n",
    "                                  'Gd(h)': 'dhi',\n",
    "                                  'T2m': 'temp_air'\n",
    "                                 })"
   ]
  },
  {
   "cell_type": "code",
   "execution_count": 14,
   "metadata": {},
   "outputs": [],
   "source": [
    "# TMY uses data from multiple years. For display purposes, it makes sense to move all the data to the same year. Same code as in pvlib.iotools.tmy#read_tmy3 coerce_year\n",
    "coerce_year = 2019\n",
    "weather['original_datetime'] = weather.index\n",
    "weather.index = weather.index.map(lambda dt: dt.replace(year=coerce_year))"
   ]
  },
  {
   "cell_type": "code",
   "execution_count": 15,
   "metadata": {},
   "outputs": [
    {
     "data": {
      "text/html": [
       "<div>\n",
       "<style scoped>\n",
       "    .dataframe tbody tr th:only-of-type {\n",
       "        vertical-align: middle;\n",
       "    }\n",
       "\n",
       "    .dataframe tbody tr th {\n",
       "        vertical-align: top;\n",
       "    }\n",
       "\n",
       "    .dataframe thead th {\n",
       "        text-align: right;\n",
       "    }\n",
       "</style>\n",
       "<table border=\"1\" class=\"dataframe\">\n",
       "  <thead>\n",
       "    <tr style=\"text-align: right;\">\n",
       "      <th></th>\n",
       "      <th>temp_air</th>\n",
       "      <th>RH</th>\n",
       "      <th>ghi</th>\n",
       "      <th>dni</th>\n",
       "      <th>dhi</th>\n",
       "      <th>IR(h)</th>\n",
       "      <th>WS10m</th>\n",
       "      <th>WD10m</th>\n",
       "      <th>SP</th>\n",
       "      <th>original_datetime</th>\n",
       "    </tr>\n",
       "    <tr>\n",
       "      <th>time(UTC)</th>\n",
       "      <th></th>\n",
       "      <th></th>\n",
       "      <th></th>\n",
       "      <th></th>\n",
       "      <th></th>\n",
       "      <th></th>\n",
       "      <th></th>\n",
       "      <th></th>\n",
       "      <th></th>\n",
       "      <th></th>\n",
       "    </tr>\n",
       "  </thead>\n",
       "  <tbody>\n",
       "    <tr>\n",
       "      <th>2019-01-01 00:00:00+00:00</th>\n",
       "      <td>2.70</td>\n",
       "      <td>96.70</td>\n",
       "      <td>0.0</td>\n",
       "      <td>0.0</td>\n",
       "      <td>0.0</td>\n",
       "      <td>292.75</td>\n",
       "      <td>1.06</td>\n",
       "      <td>219.0</td>\n",
       "      <td>99358.0</td>\n",
       "      <td>2016-01-01 00:00:00+00:00</td>\n",
       "    </tr>\n",
       "    <tr>\n",
       "      <th>2019-01-01 01:00:00+00:00</th>\n",
       "      <td>3.26</td>\n",
       "      <td>97.01</td>\n",
       "      <td>0.0</td>\n",
       "      <td>0.0</td>\n",
       "      <td>0.0</td>\n",
       "      <td>299.49</td>\n",
       "      <td>1.05</td>\n",
       "      <td>228.0</td>\n",
       "      <td>99374.0</td>\n",
       "      <td>2016-01-01 01:00:00+00:00</td>\n",
       "    </tr>\n",
       "    <tr>\n",
       "      <th>2019-01-01 02:00:00+00:00</th>\n",
       "      <td>3.83</td>\n",
       "      <td>97.32</td>\n",
       "      <td>0.0</td>\n",
       "      <td>0.0</td>\n",
       "      <td>0.0</td>\n",
       "      <td>306.23</td>\n",
       "      <td>1.03</td>\n",
       "      <td>238.0</td>\n",
       "      <td>99390.0</td>\n",
       "      <td>2016-01-01 02:00:00+00:00</td>\n",
       "    </tr>\n",
       "    <tr>\n",
       "      <th>2019-01-01 03:00:00+00:00</th>\n",
       "      <td>4.39</td>\n",
       "      <td>97.62</td>\n",
       "      <td>0.0</td>\n",
       "      <td>0.0</td>\n",
       "      <td>0.0</td>\n",
       "      <td>312.97</td>\n",
       "      <td>1.01</td>\n",
       "      <td>222.0</td>\n",
       "      <td>99383.0</td>\n",
       "      <td>2016-01-01 03:00:00+00:00</td>\n",
       "    </tr>\n",
       "    <tr>\n",
       "      <th>2019-01-01 04:00:00+00:00</th>\n",
       "      <td>4.96</td>\n",
       "      <td>97.93</td>\n",
       "      <td>0.0</td>\n",
       "      <td>0.0</td>\n",
       "      <td>0.0</td>\n",
       "      <td>319.71</td>\n",
       "      <td>0.99</td>\n",
       "      <td>207.0</td>\n",
       "      <td>99377.0</td>\n",
       "      <td>2016-01-01 04:00:00+00:00</td>\n",
       "    </tr>\n",
       "    <tr>\n",
       "      <th>...</th>\n",
       "      <td>...</td>\n",
       "      <td>...</td>\n",
       "      <td>...</td>\n",
       "      <td>...</td>\n",
       "      <td>...</td>\n",
       "      <td>...</td>\n",
       "      <td>...</td>\n",
       "      <td>...</td>\n",
       "      <td>...</td>\n",
       "      <td>...</td>\n",
       "    </tr>\n",
       "    <tr>\n",
       "      <th>2019-12-31 19:00:00+00:00</th>\n",
       "      <td>-0.12</td>\n",
       "      <td>95.16</td>\n",
       "      <td>0.0</td>\n",
       "      <td>0.0</td>\n",
       "      <td>0.0</td>\n",
       "      <td>259.05</td>\n",
       "      <td>1.16</td>\n",
       "      <td>248.0</td>\n",
       "      <td>99586.0</td>\n",
       "      <td>2007-12-31 19:00:00+00:00</td>\n",
       "    </tr>\n",
       "    <tr>\n",
       "      <th>2019-12-31 20:00:00+00:00</th>\n",
       "      <td>0.45</td>\n",
       "      <td>95.47</td>\n",
       "      <td>0.0</td>\n",
       "      <td>0.0</td>\n",
       "      <td>0.0</td>\n",
       "      <td>265.79</td>\n",
       "      <td>1.14</td>\n",
       "      <td>246.0</td>\n",
       "      <td>99574.0</td>\n",
       "      <td>2007-12-31 20:00:00+00:00</td>\n",
       "    </tr>\n",
       "    <tr>\n",
       "      <th>2019-12-31 21:00:00+00:00</th>\n",
       "      <td>1.01</td>\n",
       "      <td>95.78</td>\n",
       "      <td>0.0</td>\n",
       "      <td>0.0</td>\n",
       "      <td>0.0</td>\n",
       "      <td>272.53</td>\n",
       "      <td>1.12</td>\n",
       "      <td>248.0</td>\n",
       "      <td>99561.0</td>\n",
       "      <td>2007-12-31 21:00:00+00:00</td>\n",
       "    </tr>\n",
       "    <tr>\n",
       "      <th>2019-12-31 22:00:00+00:00</th>\n",
       "      <td>1.57</td>\n",
       "      <td>96.09</td>\n",
       "      <td>0.0</td>\n",
       "      <td>0.0</td>\n",
       "      <td>0.0</td>\n",
       "      <td>279.27</td>\n",
       "      <td>1.10</td>\n",
       "      <td>249.0</td>\n",
       "      <td>99548.0</td>\n",
       "      <td>2007-12-31 22:00:00+00:00</td>\n",
       "    </tr>\n",
       "    <tr>\n",
       "      <th>2019-12-31 23:00:00+00:00</th>\n",
       "      <td>2.14</td>\n",
       "      <td>96.39</td>\n",
       "      <td>0.0</td>\n",
       "      <td>0.0</td>\n",
       "      <td>0.0</td>\n",
       "      <td>286.01</td>\n",
       "      <td>1.08</td>\n",
       "      <td>251.0</td>\n",
       "      <td>99535.0</td>\n",
       "      <td>2007-12-31 23:00:00+00:00</td>\n",
       "    </tr>\n",
       "  </tbody>\n",
       "</table>\n",
       "<p>8760 rows × 10 columns</p>\n",
       "</div>"
      ],
      "text/plain": [
       "                           temp_air     RH  ghi  dni  dhi   IR(h)  WS10m  \\\n",
       "time(UTC)                                                                  \n",
       "2019-01-01 00:00:00+00:00      2.70  96.70  0.0  0.0  0.0  292.75   1.06   \n",
       "2019-01-01 01:00:00+00:00      3.26  97.01  0.0  0.0  0.0  299.49   1.05   \n",
       "2019-01-01 02:00:00+00:00      3.83  97.32  0.0  0.0  0.0  306.23   1.03   \n",
       "2019-01-01 03:00:00+00:00      4.39  97.62  0.0  0.0  0.0  312.97   1.01   \n",
       "2019-01-01 04:00:00+00:00      4.96  97.93  0.0  0.0  0.0  319.71   0.99   \n",
       "...                             ...    ...  ...  ...  ...     ...    ...   \n",
       "2019-12-31 19:00:00+00:00     -0.12  95.16  0.0  0.0  0.0  259.05   1.16   \n",
       "2019-12-31 20:00:00+00:00      0.45  95.47  0.0  0.0  0.0  265.79   1.14   \n",
       "2019-12-31 21:00:00+00:00      1.01  95.78  0.0  0.0  0.0  272.53   1.12   \n",
       "2019-12-31 22:00:00+00:00      1.57  96.09  0.0  0.0  0.0  279.27   1.10   \n",
       "2019-12-31 23:00:00+00:00      2.14  96.39  0.0  0.0  0.0  286.01   1.08   \n",
       "\n",
       "                           WD10m       SP         original_datetime  \n",
       "time(UTC)                                                            \n",
       "2019-01-01 00:00:00+00:00  219.0  99358.0 2016-01-01 00:00:00+00:00  \n",
       "2019-01-01 01:00:00+00:00  228.0  99374.0 2016-01-01 01:00:00+00:00  \n",
       "2019-01-01 02:00:00+00:00  238.0  99390.0 2016-01-01 02:00:00+00:00  \n",
       "2019-01-01 03:00:00+00:00  222.0  99383.0 2016-01-01 03:00:00+00:00  \n",
       "2019-01-01 04:00:00+00:00  207.0  99377.0 2016-01-01 04:00:00+00:00  \n",
       "...                          ...      ...                       ...  \n",
       "2019-12-31 19:00:00+00:00  248.0  99586.0 2007-12-31 19:00:00+00:00  \n",
       "2019-12-31 20:00:00+00:00  246.0  99574.0 2007-12-31 20:00:00+00:00  \n",
       "2019-12-31 21:00:00+00:00  248.0  99561.0 2007-12-31 21:00:00+00:00  \n",
       "2019-12-31 22:00:00+00:00  249.0  99548.0 2007-12-31 22:00:00+00:00  \n",
       "2019-12-31 23:00:00+00:00  251.0  99535.0 2007-12-31 23:00:00+00:00  \n",
       "\n",
       "[8760 rows x 10 columns]"
      ]
     },
     "execution_count": 15,
     "metadata": {},
     "output_type": "execute_result"
    }
   ],
   "source": [
    "weather"
   ]
  },
  {
   "cell_type": "code",
   "execution_count": 16,
   "metadata": {},
   "outputs": [
    {
     "data": {
      "text/plain": [
       "ModelChain: \n",
       "  name: None\n",
       "  orientation_strategy: None\n",
       "  clearsky_model: ineichen\n",
       "  transposition_model: haydavies\n",
       "  solar_position_method: nrel_numpy\n",
       "  airmass_model: kastenyoung1989\n",
       "  dc_model: sapm\n",
       "  ac_model: snlinverter\n",
       "  aoi_model: sapm_aoi_loss\n",
       "  spectral_model: sapm_spectral_loss\n",
       "  temperature_model: sapm_temp\n",
       "  losses_model: no_extra_losses"
      ]
     },
     "execution_count": 16,
     "metadata": {},
     "output_type": "execute_result"
    }
   ],
   "source": [
    "#np.seterr(invalid='ignore')\n",
    "mc.run_model(weather)"
   ]
  },
  {
   "cell_type": "code",
   "execution_count": 17,
   "metadata": {},
   "outputs": [
    {
     "data": {
      "text/plain": [
       "pandas.core.frame.DataFrame"
      ]
     },
     "execution_count": 17,
     "metadata": {},
     "output_type": "execute_result"
    }
   ],
   "source": [
    "type(weather)"
   ]
  },
  {
   "cell_type": "code",
   "execution_count": 18,
   "metadata": {},
   "outputs": [
    {
     "data": {
      "text/plain": [
       "<matplotlib.axes._subplots.AxesSubplot at 0x7f0b4d4f4df0>"
      ]
     },
     "execution_count": 18,
     "metadata": {},
     "output_type": "execute_result"
    },
    {
     "data": {
      "image/png": "[encoded data removed]",
      "text/plain": [
       "<Figure size 432x288 with 1 Axes>"
      ]
     },
     "metadata": {
      "needs_background": "light"
     },
     "output_type": "display_data"
    }
   ],
   "source": [
    "#NOTE: Should move to same year (coerce_year)\n",
    "mc.ac.plot()"
   ]
  },
  {
   "cell_type": "code",
   "execution_count": 19,
   "metadata": {},
   "outputs": [],
   "source": [
    "import matplotlib.pyplot as plt"
   ]
  },
  {
   "cell_type": "code",
   "execution_count": 20,
   "metadata": {},
   "outputs": [
    {
     "data": {
      "text/plain": [
       "<matplotlib.colorbar.Colorbar at 0x7f0b4cbe4970>"
      ]
     },
     "execution_count": 20,
     "metadata": {},
     "output_type": "execute_result"
    },
    {
     "data": {
      "image/png": "[encoded data removed]",
      "text/plain": [
       "<Figure size 2160x1440 with 2 Axes>"
      ]
     },
     "metadata": {
      "needs_background": "light"
     },
     "output_type": "display_data"
    }
   ],
   "source": [
    "plt.figure(figsize=(30, 20))\n",
    "plt.imshow(mc.ac.values.reshape(-1,24).T,\n",
    "           aspect='auto',\n",
    "           origin='lower'\n",
    "          )\n",
    "plt.colorbar()"
   ]
  },
  {
   "cell_type": "code",
   "execution_count": 21,
   "metadata": {},
   "outputs": [
    {
     "data": {
      "text/plain": [
       "<matplotlib.axes._subplots.AxesSubplot at 0x7f0b44dcff40>"
      ]
     },
     "execution_count": 21,
     "metadata": {},
     "output_type": "execute_result"
    },
    {
     "data": {
      "image/png": "[encoded data removed]",
      "text/plain": [
       "<Figure size 432x288 with 1 Axes>"
      ]
     },
     "metadata": {
      "needs_background": "light"
     },
     "output_type": "display_data"
    }
   ],
   "source": [
    "mc.dc.plot()"
   ]
  },
  {
   "cell_type": "code",
   "execution_count": 22,
   "metadata": {},
   "outputs": [
    {
     "data": {
      "text/plain": [
       "'Total Yield : 3882 kWh/a'"
      ]
     },
     "execution_count": 22,
     "metadata": {},
     "output_type": "execute_result"
    }
   ],
   "source": [
    "'Total Yield : %.0f kWh/a' % (mc.ac.sum() / 1000)"
   ]
  },
  {
   "cell_type": "code",
   "execution_count": 23,
   "metadata": {},
   "outputs": [
    {
     "data": {
      "text/plain": [
       "'Specific yield : 1232 kWh/kWp.a'"
      ]
     },
     "execution_count": 23,
     "metadata": {},
     "output_type": "execute_result"
    }
   ],
   "source": [
    "'Specific yield : %.0f kWh/kWp.a' % (mc.ac.sum() / (315 * 10) )"
   ]
  },
  {
   "cell_type": "code",
   "execution_count": 24,
   "metadata": {},
   "outputs": [
    {
     "data": {
      "text/plain": [
       "'Performace Ratio : 90.2 %'"
      ]
     },
     "execution_count": 24,
     "metadata": {},
     "output_type": "execute_result"
    }
   ],
   "source": [
    "'Performace Ratio : %.1f %%' % ((mc.ac.sum() / (315 * 10) / (mc.total_irrad.poa_global.sum()/1000)) * 100)"
   ]
  },
  {
   "cell_type": "code",
   "execution_count": 25,
   "metadata": {},
   "outputs": [],
   "source": [
    "#TODO: Add Sankey because it looks cool"
   ]
  },
  {
   "cell_type": "markdown",
   "metadata": {},
   "source": [
    "# Comparison with INSEL"
   ]
  },
  {
   "cell_type": "code",
   "execution_count": 26,
   "metadata": {},
   "outputs": [],
   "source": [
    "#TODO: Fix INSEL call and compare to PVGIS + PVLIB"
   ]
  },
  {
   "cell_type": "code",
   "execution_count": 27,
   "metadata": {},
   "outputs": [],
   "source": [
    "import insel"
   ]
  },
  {
   "cell_type": "code",
   "execution_count": 28,
   "metadata": {},
   "outputs": [
    {
     "ename": "NameError",
     "evalue": "name 'localized_one_year' is not defined",
     "output_type": "error",
     "traceback": [
      "\u001b[0;31m---------------------------------------------------------------------------\u001b[0m",
      "\u001b[0;31mNameError\u001b[0m                                 Traceback (most recent call last)",
      "\u001b[0;32m<ipython-input-28-b8ab027cf2cf>\u001b[0m in \u001b[0;36m<module>\u001b[0;34m\u001b[0m\n\u001b[0;32m----> 1\u001b[0;31m \u001b[0mstuttgart_weather\u001b[0m \u001b[0;34m=\u001b[0m \u001b[0mpd\u001b[0m\u001b[0;34m.\u001b[0m\u001b[0mDataFrame\u001b[0m\u001b[0;34m(\u001b[0m\u001b[0minsel\u001b[0m\u001b[0;34m.\u001b[0m\u001b[0mtemplate\u001b[0m\u001b[0;34m(\u001b[0m\u001b[0;34m'pvlib_weather_generation'\u001b[0m\u001b[0;34m)\u001b[0m\u001b[0;34m,\u001b[0m \u001b[0mindex\u001b[0m\u001b[0;34m=\u001b[0m\u001b[0mlocalized_one_year\u001b[0m\u001b[0;34m,\u001b[0m \u001b[0mcolumns\u001b[0m\u001b[0;34m=\u001b[0m\u001b[0;34m[\u001b[0m\u001b[0;34m'wind_speed'\u001b[0m\u001b[0;34m,\u001b[0m \u001b[0;34m'temp_air'\u001b[0m\u001b[0;34m,\u001b[0m \u001b[0;34m'dni'\u001b[0m\u001b[0;34m,\u001b[0m \u001b[0;34m'ghi'\u001b[0m\u001b[0;34m,\u001b[0m \u001b[0;34m'dhi'\u001b[0m\u001b[0;34m]\u001b[0m\u001b[0;34m)\u001b[0m\u001b[0;34m\u001b[0m\u001b[0;34m\u001b[0m\u001b[0m\n\u001b[0m",
      "\u001b[0;31mNameError\u001b[0m: name 'localized_one_year' is not defined"
     ]
    }
   ],
   "source": [
    "stuttgart_weather = pd.DataFrame(insel.template('pvlib_weather_generation'), index=localized_one_year, columns=['wind_speed', 'temp_air', 'dni', 'ghi', 'dhi'])"
   ]
  },
  {
   "cell_type": "code",
   "execution_count": null,
   "metadata": {},
   "outputs": [],
   "source": [
    "stuttgart_weather.ghi.sum() / 1000"
   ]
  },
  {
   "cell_type": "code",
   "execution_count": null,
   "metadata": {},
   "outputs": [],
   "source": [
    "mc.run_model(localized_one_year, stuttgart_weather)"
   ]
  },
  {
   "cell_type": "code",
   "execution_count": null,
   "metadata": {},
   "outputs": [],
   "source": [
    "'Specific yield : %.0f kWh/kWp.a' % (mc.ac.sum() / (315 * 10) )"
   ]
  },
  {
   "cell_type": "code",
   "execution_count": null,
   "metadata": {},
   "outputs": [],
   "source": [
    "'Global tilted irradiance : %.0f kWh/m².a' % (mc.total_irrad.poa_global.sum()/1000)"
   ]
  },
  {
   "cell_type": "code",
   "execution_count": null,
   "metadata": {},
   "outputs": [],
   "source": [
    "'Performace Ratio : %.1f %%' % ((mc.ac.sum() / (315 * 10) / (mc.total_irrad.poa_global.sum()/1000)) * 100)"
   ]
  },
  {
   "cell_type": "markdown",
   "metadata": {},
   "source": [
    "# Module IV curve"
   ]
  },
  {
   "cell_type": "code",
   "execution_count": null,
   "metadata": {},
   "outputs": [],
   "source": [
    "#TODO: Model own PV module, e.g. any recent half cell module"
   ]
  },
  {
   "cell_type": "code",
   "execution_count": null,
   "metadata": {},
   "outputs": [],
   "source": [
    "type(spr_315)"
   ]
  },
  {
   "cell_type": "code",
   "execution_count": null,
   "metadata": {},
   "outputs": [],
   "source": [
    "mc.dc_model"
   ]
  },
  {
   "cell_type": "code",
   "execution_count": null,
   "metadata": {},
   "outputs": [],
   "source": [
    "spr_315_5_points = pvlib.pvsystem.sapm(1, # WARNING: Effective irradiance! 1 sun = 1000W/m²\n",
    "                    25,\n",
    "                    spr_315)"
   ]
  },
  {
   "cell_type": "code",
   "execution_count": null,
   "metadata": {},
   "outputs": [],
   "source": [
    "def sapm_to_ivframe(sapm_row):\n",
    "    pnt = sapm_row\n",
    "\n",
    "    ivframe = {'Isc': (pnt['i_sc'], 0),\n",
    "              'Pmp': (pnt['i_mp'], pnt['v_mp']),\n",
    "              'Ix': (pnt['i_x'], 0.5*pnt['v_oc']),\n",
    "              'Ixx': (pnt['i_xx'], 0.5*(pnt['v_oc']+pnt['v_mp'])),\n",
    "              'Voc': (0, pnt['v_oc'])}\n",
    "    ivframe = pd.DataFrame(ivframe, index=['current', 'voltage']).T\n",
    "    ivframe = ivframe.sort_values(by='voltage')\n",
    "    \n",
    "    return ivframe\n",
    "\n",
    "def ivframe_to_ivcurve(ivframe, points=100):\n",
    "    ivfit_coefs = np.polyfit(ivframe['voltage'], ivframe['current'], 30)\n",
    "    fit_voltages = np.linspace(0, ivframe.loc['Voc', 'voltage'], points)\n",
    "    fit_currents = np.polyval(ivfit_coefs, fit_voltages)\n",
    "    \n",
    "    return fit_voltages, fit_currents"
   ]
  },
  {
   "cell_type": "code",
   "execution_count": null,
   "metadata": {},
   "outputs": [],
   "source": [
    "import warnings\n",
    "warnings.simplefilter('ignore', np.RankWarning)\n",
    "\n",
    "\n",
    "iv_frame = sapm_to_ivframe(spr_315_5_points)\n",
    "fit_voltages, fit_currents = ivframe_to_ivcurve(iv_frame)\n",
    "\n",
    "import matplotlib.pyplot as plt\n",
    "plt.plot(fit_voltages, fit_currents)\n",
    "plt.plot(iv_frame['voltage'], iv_frame['current'], 'ko')\n",
    "plt.title('Sunpower 315 at STC (Graph looks wrong!)')\n",
    "plt.xlabel('Voltage [V]')\n",
    "plt.ylabel('Current [A]')\n",
    "plt.plot()"
   ]
  },
  {
   "cell_type": "code",
   "execution_count": null,
   "metadata": {},
   "outputs": [],
   "source": []
  }
 ],
 "metadata": {
  "kernelspec": {
   "display_name": "Python 3",
   "language": "python",
   "name": "python3"
  },
  "language_info": {
   "codemirror_mode": {
    "name": "ipython",
    "version": 3
   },
   "file_extension": ".py",
   "mimetype": "text/x-python",
   "name": "python",
   "nbconvert_exporter": "python",
   "pygments_lexer": "ipython3",
   "version": "3.8.3"
  }
 },
 "nbformat": 4,
 "nbformat_minor": 2
}
