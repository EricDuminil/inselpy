{
 "cells": [
  {
   "cell_type": "markdown",
   "metadata": {},
   "source": [
    "# Comparing sun positions with INSEL and PVLIB"
   ]
  },
  {
   "cell_type": "code",
   "execution_count": 1,
   "metadata": {
    "collapsed": true
   },
   "outputs": [],
   "source": [
    "LATITUDE = 48.77\n",
    "LONGITUDE = 9.18\n",
    "\n",
    "# NOTE : Time should be localized, but without daylight saving time.\n",
    "# NOTE : 'Europe/Berlin' switches between UTC+01:00 and UTC+02:00 and leads to missing or overlapping hours\n",
    "# NOTE : Etc/GMT sign convention is the same as in INSEL and the opposite of UTC or GMT.\n",
    "TIMEZONE = 'Etc/GMT-1'"
   ]
  },
  {
   "cell_type": "code",
   "execution_count": 2,
   "metadata": {
    "collapsed": true
   },
   "outputs": [],
   "source": [
    "from pvlib import solarposition"
   ]
  },
  {
   "cell_type": "code",
   "execution_count": 3,
   "metadata": {},
   "outputs": [],
   "source": [
    "import pandas as pd\n",
    "import matplotlib.pyplot as plt\n",
    "\n",
    "# Creates an array of times with every hour in 2018, localized in TIMEZONE.\n",
    "assert 'Etc/GMT' in TIMEZONE, \"TIMEZONE should be expressed in 'Etc/GMT'. E.g. 'Etc/GMT-1' for Germany\"\n",
    "times = pd.DatetimeIndex(start='2018-01-01 00:00', freq='1h', periods=8760).tz_localize(tz=TIMEZONE)"
   ]
  },
  {
   "cell_type": "code",
   "execution_count": 4,
   "metadata": {},
   "outputs": [],
   "source": [
    "# see https://wholmgren-pvlib-python-new.readthedocs.io/en/doc-reorg2/generated/solarposition/pvlib.solarposition.get_solarposition.html\n",
    "df = solarposition.get_solarposition(times, LATITUDE, LONGITUDE)"
   ]
  },
  {
   "cell_type": "code",
   "execution_count": 5,
   "metadata": {},
   "outputs": [],
   "source": [
    "# Removes unneeded columns and reorder azimuth/elevation\n",
    "df = df[['azimuth', 'apparent_elevation']]"
   ]
  },
  {
   "cell_type": "code",
   "execution_count": 6,
   "metadata": {},
   "outputs": [],
   "source": [
    "# Renames columns\n",
    "df = df.rename(index=str, columns={\"azimuth\": \"pvlib_azimuth\", \"apparent_elevation\": \"pvlib_elevation\"})"
   ]
  },
  {
   "cell_type": "code",
   "execution_count": 7,
   "metadata": {
    "collapsed": true
   },
   "outputs": [],
   "source": [
    "import insel\n",
    "import numpy as np"
   ]
  },
  {
   "cell_type": "code",
   "execution_count": 8,
   "metadata": {},
   "outputs": [],
   "source": [
    "# INSEL timezone convention is not only backwards, it has to be positive\n",
    "insel_timezone = int(TIMEZONE.replace('Etc/GMT', '')) % 24\n",
    "\n",
    "insel_sunposition = np.array(\n",
    "    insel.template('solarposition',\n",
    "                   latitude = LATITUDE,\n",
    "                   insel_longitude = -LONGITUDE,\n",
    "                   insel_timezone = insel_timezone\n",
    "                  )\n",
    ")"
   ]
  },
  {
   "cell_type": "code",
   "execution_count": 9,
   "metadata": {},
   "outputs": [],
   "source": [
    "df['insel_azimuth'] = insel_sunposition[:,0]"
   ]
  },
  {
   "cell_type": "code",
   "execution_count": 10,
   "metadata": {
    "collapsed": true
   },
   "outputs": [],
   "source": [
    "df['insel_elevation']= insel_sunposition[:,1]"
   ]
  },
  {
   "cell_type": "code",
   "execution_count": 11,
   "metadata": {},
   "outputs": [
    {
     "data": {
      "text/html": [
       "<div>\n",
       "<style scoped>\n",
       "    .dataframe tbody tr th:only-of-type {\n",
       "        vertical-align: middle;\n",
       "    }\n",
       "\n",
       "    .dataframe tbody tr th {\n",
       "        vertical-align: top;\n",
       "    }\n",
       "\n",
       "    .dataframe thead th {\n",
       "        text-align: right;\n",
       "    }\n",
       "</style>\n",
       "<table border=\"1\" class=\"dataframe\">\n",
       "  <thead>\n",
       "    <tr style=\"text-align: right;\">\n",
       "      <th></th>\n",
       "      <th>pvlib_azimuth</th>\n",
       "      <th>pvlib_elevation</th>\n",
       "      <th>insel_azimuth</th>\n",
       "      <th>insel_elevation</th>\n",
       "    </tr>\n",
       "  </thead>\n",
       "  <tbody>\n",
       "    <tr>\n",
       "      <th>2018-01-01 00:00:00+01:00</th>\n",
       "      <td>346.076395</td>\n",
       "      <td>-63.720786</td>\n",
       "      <td>346.270416</td>\n",
       "      <td>-63.211327</td>\n",
       "    </tr>\n",
       "    <tr>\n",
       "      <th>2018-01-01 01:00:00+01:00</th>\n",
       "      <td>17.371196</td>\n",
       "      <td>-63.415261</td>\n",
       "      <td>17.603943</td>\n",
       "      <td>-62.871685</td>\n",
       "    </tr>\n",
       "    <tr>\n",
       "      <th>2018-01-01 02:00:00+01:00</th>\n",
       "      <td>43.983996</td>\n",
       "      <td>-58.323573</td>\n",
       "      <td>44.193767</td>\n",
       "      <td>-57.748402</td>\n",
       "    </tr>\n",
       "    <tr>\n",
       "      <th>2018-01-01 03:00:00+01:00</th>\n",
       "      <td>63.448283</td>\n",
       "      <td>-50.340282</td>\n",
       "      <td>63.623280</td>\n",
       "      <td>-49.745621</td>\n",
       "    </tr>\n",
       "    <tr>\n",
       "      <th>2018-01-01 04:00:00+01:00</th>\n",
       "      <td>78.086917</td>\n",
       "      <td>-41.015294</td>\n",
       "      <td>78.238365</td>\n",
       "      <td>-40.410675</td>\n",
       "    </tr>\n",
       "    <tr>\n",
       "      <th>2018-01-01 05:00:00+01:00</th>\n",
       "      <td>90.129806</td>\n",
       "      <td>-31.197786</td>\n",
       "      <td>90.269074</td>\n",
       "      <td>-30.589607</td>\n",
       "    </tr>\n",
       "    <tr>\n",
       "      <th>2018-01-01 06:00:00+01:00</th>\n",
       "      <td>100.960399</td>\n",
       "      <td>-21.374411</td>\n",
       "      <td>101.095001</td>\n",
       "      <td>-20.767532</td>\n",
       "    </tr>\n",
       "    <tr>\n",
       "      <th>2018-01-01 07:00:00+01:00</th>\n",
       "      <td>111.438938</td>\n",
       "      <td>-11.894709</td>\n",
       "      <td>111.574944</td>\n",
       "      <td>-11.293615</td>\n",
       "    </tr>\n",
       "    <tr>\n",
       "      <th>2018-01-01 08:00:00+01:00</th>\n",
       "      <td>122.156167</td>\n",
       "      <td>-3.080211</td>\n",
       "      <td>122.297745</td>\n",
       "      <td>-2.489618</td>\n",
       "    </tr>\n",
       "    <tr>\n",
       "      <th>2018-01-01 09:00:00+01:00</th>\n",
       "      <td>133.546751</td>\n",
       "      <td>4.888582</td>\n",
       "      <td>133.696442</td>\n",
       "      <td>4.903856</td>\n",
       "    </tr>\n",
       "  </tbody>\n",
       "</table>\n",
       "</div>"
      ],
      "text/plain": [
       "                           pvlib_azimuth  pvlib_elevation  insel_azimuth  \\\n",
       "2018-01-01 00:00:00+01:00     346.076395       -63.720786     346.270416   \n",
       "2018-01-01 01:00:00+01:00      17.371196       -63.415261      17.603943   \n",
       "2018-01-01 02:00:00+01:00      43.983996       -58.323573      44.193767   \n",
       "2018-01-01 03:00:00+01:00      63.448283       -50.340282      63.623280   \n",
       "2018-01-01 04:00:00+01:00      78.086917       -41.015294      78.238365   \n",
       "2018-01-01 05:00:00+01:00      90.129806       -31.197786      90.269074   \n",
       "2018-01-01 06:00:00+01:00     100.960399       -21.374411     101.095001   \n",
       "2018-01-01 07:00:00+01:00     111.438938       -11.894709     111.574944   \n",
       "2018-01-01 08:00:00+01:00     122.156167        -3.080211     122.297745   \n",
       "2018-01-01 09:00:00+01:00     133.546751         4.888582     133.696442   \n",
       "\n",
       "                           insel_elevation  \n",
       "2018-01-01 00:00:00+01:00       -63.211327  \n",
       "2018-01-01 01:00:00+01:00       -62.871685  \n",
       "2018-01-01 02:00:00+01:00       -57.748402  \n",
       "2018-01-01 03:00:00+01:00       -49.745621  \n",
       "2018-01-01 04:00:00+01:00       -40.410675  \n",
       "2018-01-01 05:00:00+01:00       -30.589607  \n",
       "2018-01-01 06:00:00+01:00       -20.767532  \n",
       "2018-01-01 07:00:00+01:00       -11.293615  \n",
       "2018-01-01 08:00:00+01:00        -2.489618  \n",
       "2018-01-01 09:00:00+01:00         4.903856  "
      ]
     },
     "execution_count": 11,
     "metadata": {},
     "output_type": "execute_result"
    }
   ],
   "source": [
    "# First values\n",
    "df[:10]"
   ]
  },
  {
   "cell_type": "code",
   "execution_count": 12,
   "metadata": {},
   "outputs": [
    {
     "data": {
      "text/plain": [
       "0.99999819939567569"
      ]
     },
     "execution_count": 12,
     "metadata": {},
     "output_type": "execute_result"
    }
   ],
   "source": [
    "# https://pandas.pydata.org/pandas-docs/stable/generated/pandas.DataFrame.corr.html\n",
    "df['insel_azimuth'].corr(df['pvlib_azimuth'])"
   ]
  },
  {
   "cell_type": "code",
   "execution_count": 13,
   "metadata": {},
   "outputs": [
    {
     "data": {
      "text/plain": [
       "0.99995729423232738"
      ]
     },
     "execution_count": 13,
     "metadata": {},
     "output_type": "execute_result"
    }
   ],
   "source": [
    "df['insel_elevation'].corr(df['pvlib_elevation'])"
   ]
  },
  {
   "cell_type": "code",
   "execution_count": 14,
   "metadata": {
    "collapsed": true
   },
   "outputs": [],
   "source": [
    "import matplotlib.pyplot as plt"
   ]
  },
  {
   "cell_type": "code",
   "execution_count": 15,
   "metadata": {},
   "outputs": [
    {
     "data": {
      "image/png": "[encoded data removed]",
      "text/plain": [
       "<matplotlib.figure.Figure at 0x7f8bde48b748>"
      ]
     },
     "metadata": {},
     "output_type": "display_data"
    }
   ],
   "source": [
    "plt.scatter(df['insel_azimuth'], df['insel_elevation'])\n",
    "plt.scatter(df['pvlib_azimuth'], df['pvlib_elevation'])\n",
    "plt.show()"
   ]
  },
  {
   "cell_type": "code",
   "execution_count": null,
   "metadata": {
    "collapsed": true
   },
   "outputs": [],
   "source": []
  }
 ],
 "metadata": {
  "kernelspec": {
   "display_name": "Python 3",
   "language": "python",
   "name": "python3"
  },
  "language_info": {
   "codemirror_mode": {
    "name": "ipython",
    "version": 3
   },
   "file_extension": ".py",
   "mimetype": "text/x-python",
   "name": "python",
   "nbconvert_exporter": "python",
   "pygments_lexer": "ipython3",
   "version": "3.6.3"
  }
 },
 "nbformat": 4,
 "nbformat_minor": 2
}
