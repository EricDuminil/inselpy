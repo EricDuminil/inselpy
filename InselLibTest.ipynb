{
 "cells": [
  {
   "cell_type": "code",
   "execution_count": 19,
   "metadata": {
    "collapsed": true
   },
   "outputs": [],
   "source": [
    "from ctypes import *"
   ]
  },
  {
   "cell_type": "code",
   "execution_count": 20,
   "metadata": {},
   "outputs": [],
   "source": [
    "insel_fb = cdll.LoadLibrary('/usr/local/INSEL/resources/libInselFB.so')"
   ]
  },
  {
   "cell_type": "code",
   "execution_count": 32,
   "metadata": {},
   "outputs": [],
   "source": [
    "some_block = insel_fb.fb0001\n",
    "TenIntegers = c_int * 10\n",
    "EightyChars = c_char * 80"
   ]
  },
  {
   "cell_type": "code",
   "execution_count": null,
   "metadata": {},
   "outputs": [],
   "source": [
    "some_block(0, #IN1\n",
    "           c_float(0.0), #OUT1\n",
    "           TenIntegers(0, 1, 0, 0, 0, 0, 0, 0, 0, 0), #IP1\n",
    "           c_float(0.0), #RP1\n",
    "           c_double(0.0), #DP1\n",
    "           c_float(17.0), #BP1\n",
    "           c_char(0)\n",
    "          )"
   ]
  },
  {
   "cell_type": "raw",
   "metadata": {},
   "source": [
    "insel_tools = ctypes.cdll.LoadLibrary('/usr/local/INSEL/resources/libInselTools.so')\n",
    "insel_tools\n",
    "att_block = insel_fb.fb0006"
   ]
  }
 ],
 "metadata": {
  "kernelspec": {
   "display_name": "Python 3",
   "language": "python",
   "name": "python3"
  },
  "language_info": {
   "codemirror_mode": {
    "name": "ipython",
    "version": 3
   },
   "file_extension": ".py",
   "mimetype": "text/x-python",
   "name": "python",
   "nbconvert_exporter": "python",
   "pygments_lexer": "ipython3",
   "version": "3.6.3"
  }
 },
 "nbformat": 4,
 "nbformat_minor": 2
}
